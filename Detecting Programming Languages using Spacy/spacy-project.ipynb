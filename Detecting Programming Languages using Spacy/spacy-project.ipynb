{
 "cells": [
  {
   "cell_type": "markdown",
   "metadata": {},
   "source": [
    "#           Recognizing a programming Language as an entity using spacy:"
   ]
  },
  {
   "cell_type": "markdown",
   "metadata": {},
   "source": [
    "## 1. First steps with spacy :"
   ]
  },
  {
   "cell_type": "markdown",
   "metadata": {},
   "source": [
    "####  1.1. Importing the necessary libraries :\n",
    "\n"
   ]
  },
  {
   "cell_type": "code",
   "execution_count": 112,
   "metadata": {},
   "outputs": [],
   "source": [
    "import pandas as pd\n",
    "import spacy \n",
    "from spacy import displacy\n",
    "from spacy.matcher import Matcher\n",
    "from IPython.display import HTML as html_print\n",
    "from sklearn.metrics import confusion_matrix, classification_report"
   ]
  },
  {
   "cell_type": "markdown",
   "metadata": {},
   "source": [
    "####   1.2. Loading the data :"
   ]
  },
  {
   "cell_type": "markdown",
   "metadata": {},
   "source": [
    " * We are not going to use all the dataset we are using only 1000000 rows and two features which are the Title and the ID :"
   ]
  },
  {
   "cell_type": "code",
   "execution_count": 38,
   "metadata": {},
   "outputs": [],
   "source": [
    "df = (pd.read_csv(\"C:/Users/khaoula/Desktop/spacy-project/Questions.csv\", nrows=1_000_000, \n",
    "                  encoding=\"ISO-8859-1\", usecols=['Title', 'Id']))\n",
    "titles = [_ for _ in df['Title']]"
   ]
  },
  {
   "cell_type": "markdown",
   "metadata": {},
   "source": [
    "####  1.3. Working without spacy :"
   ]
  },
  {
   "cell_type": "markdown",
   "metadata": {},
   "source": [
    "* We are going to try to return all phrases containing the word go as a programming language:"
   ]
  },
  {
   "cell_type": "code",
   "execution_count": 39,
   "metadata": {},
   "outputs": [
    {
     "data": {
      "text/plain": [
       "['My website got hacked... What should I do?',\n",
       " \"DVCS Choices - What's good for Windows?\"]"
      ]
     },
     "execution_count": 39,
     "metadata": {},
     "output_type": "execute_result"
    }
   ],
   "source": [
    "def has_golang(text):\n",
    "    return \"go\" in text\n",
    "\n",
    "g = (title for title in titles if has_golang(title))\n",
    "[next(g) for i in range(2)]"
   ]
  },
  {
   "cell_type": "markdown",
   "metadata": {},
   "source": [
    "* The code below returned all phrases containing words containing go like got and good,and that's not what we wanted.That's why we are going to use spacy now."
   ]
  },
  {
   "cell_type": "markdown",
   "metadata": {},
   "source": [
    "#### 1.4. Working with spacy :"
   ]
  },
  {
   "cell_type": "markdown",
   "metadata": {},
   "source": [
    "* First we are starting by loading the English language model :"
   ]
  },
  {
   "cell_type": "code",
   "execution_count": 40,
   "metadata": {},
   "outputs": [],
   "source": [
    "nlp = spacy.load(\"en_core_web_sm\")"
   ]
  },
  {
   "cell_type": "markdown",
   "metadata": {},
   "source": [
    "Let's first see the difference between working with spacy and without spacy."
   ]
  },
  {
   "cell_type": "code",
   "execution_count": 41,
   "metadata": {},
   "outputs": [
    {
     "data": {
      "text/plain": [
       "[My, name, is, khaoula, benali, .]"
      ]
     },
     "execution_count": 41,
     "metadata": {},
     "output_type": "execute_result"
    }
   ],
   "source": [
    "[t for t in nlp(\"My name is khaoula benali.\")]"
   ]
  },
  {
   "cell_type": "markdown",
   "metadata": {},
   "source": [
    "* The difference now is that every word in the phrase became an isolated member (token) of a set so now we can work on each word aside very easily."
   ]
  },
  {
   "cell_type": "code",
   "execution_count": 42,
   "metadata": {},
   "outputs": [],
   "source": [
    "doc = nlp(\"My name is khaoula benali.\")"
   ]
  },
  {
   "cell_type": "code",
   "execution_count": 43,
   "metadata": {},
   "outputs": [
    {
     "name": "stdout",
     "output_type": "stream",
     "text": [
      "khaoula\n"
     ]
    }
   ],
   "source": [
    "t = doc[3]\n",
    "print(t)"
   ]
  },
  {
   "cell_type": "code",
   "execution_count": 44,
   "metadata": {},
   "outputs": [
    {
     "data": {
      "text/plain": [
       "spacy.tokens.token.Token"
      ]
     },
     "execution_count": 44,
     "metadata": {},
     "output_type": "execute_result"
    }
   ],
   "source": [
    "type(t)"
   ]
  },
  {
   "cell_type": "code",
   "execution_count": 45,
   "metadata": {},
   "outputs": [
    {
     "data": {
      "text/html": [
       "<span class=\"tex2jax_ignore\"><svg xmlns=\"http://www.w3.org/2000/svg\" xmlns:xlink=\"http://www.w3.org/1999/xlink\" xml:lang=\"en\" id=\"ed93cd77229d4ed28d30e3d72b587235-0\" class=\"displacy\" width=\"925\" height=\"312.0\" direction=\"ltr\" style=\"max-width: none; height: 312.0px; color: #000000; background: #ffffff; font-family: Arial; direction: ltr\">\n",
       "<text class=\"displacy-token\" fill=\"currentColor\" text-anchor=\"middle\" y=\"222.0\">\n",
       "    <tspan class=\"displacy-word\" fill=\"currentColor\" x=\"50\">My</tspan>\n",
       "    <tspan class=\"displacy-tag\" dy=\"2em\" fill=\"currentColor\" x=\"50\">PRON</tspan>\n",
       "</text>\n",
       "\n",
       "<text class=\"displacy-token\" fill=\"currentColor\" text-anchor=\"middle\" y=\"222.0\">\n",
       "    <tspan class=\"displacy-word\" fill=\"currentColor\" x=\"225\">name</tspan>\n",
       "    <tspan class=\"displacy-tag\" dy=\"2em\" fill=\"currentColor\" x=\"225\">NOUN</tspan>\n",
       "</text>\n",
       "\n",
       "<text class=\"displacy-token\" fill=\"currentColor\" text-anchor=\"middle\" y=\"222.0\">\n",
       "    <tspan class=\"displacy-word\" fill=\"currentColor\" x=\"400\">is</tspan>\n",
       "    <tspan class=\"displacy-tag\" dy=\"2em\" fill=\"currentColor\" x=\"400\">AUX</tspan>\n",
       "</text>\n",
       "\n",
       "<text class=\"displacy-token\" fill=\"currentColor\" text-anchor=\"middle\" y=\"222.0\">\n",
       "    <tspan class=\"displacy-word\" fill=\"currentColor\" x=\"575\">khaoula</tspan>\n",
       "    <tspan class=\"displacy-tag\" dy=\"2em\" fill=\"currentColor\" x=\"575\">NOUN</tspan>\n",
       "</text>\n",
       "\n",
       "<text class=\"displacy-token\" fill=\"currentColor\" text-anchor=\"middle\" y=\"222.0\">\n",
       "    <tspan class=\"displacy-word\" fill=\"currentColor\" x=\"750\">benali.</tspan>\n",
       "    <tspan class=\"displacy-tag\" dy=\"2em\" fill=\"currentColor\" x=\"750\">VERB</tspan>\n",
       "</text>\n",
       "\n",
       "<g class=\"displacy-arrow\">\n",
       "    <path class=\"displacy-arc\" id=\"arrow-ed93cd77229d4ed28d30e3d72b587235-0-0\" stroke-width=\"2px\" d=\"M70,177.0 C70,89.5 220.0,89.5 220.0,177.0\" fill=\"none\" stroke=\"currentColor\"/>\n",
       "    <text dy=\"1.25em\" style=\"font-size: 0.8em; letter-spacing: 1px\">\n",
       "        <textPath xlink:href=\"#arrow-ed93cd77229d4ed28d30e3d72b587235-0-0\" class=\"displacy-label\" startOffset=\"50%\" side=\"left\" fill=\"currentColor\" text-anchor=\"middle\">poss</textPath>\n",
       "    </text>\n",
       "    <path class=\"displacy-arrowhead\" d=\"M70,179.0 L62,167.0 78,167.0\" fill=\"currentColor\"/>\n",
       "</g>\n",
       "\n",
       "<g class=\"displacy-arrow\">\n",
       "    <path class=\"displacy-arc\" id=\"arrow-ed93cd77229d4ed28d30e3d72b587235-0-1\" stroke-width=\"2px\" d=\"M245,177.0 C245,89.5 395.0,89.5 395.0,177.0\" fill=\"none\" stroke=\"currentColor\"/>\n",
       "    <text dy=\"1.25em\" style=\"font-size: 0.8em; letter-spacing: 1px\">\n",
       "        <textPath xlink:href=\"#arrow-ed93cd77229d4ed28d30e3d72b587235-0-1\" class=\"displacy-label\" startOffset=\"50%\" side=\"left\" fill=\"currentColor\" text-anchor=\"middle\">nsubj</textPath>\n",
       "    </text>\n",
       "    <path class=\"displacy-arrowhead\" d=\"M245,179.0 L237,167.0 253,167.0\" fill=\"currentColor\"/>\n",
       "</g>\n",
       "\n",
       "<g class=\"displacy-arrow\">\n",
       "    <path class=\"displacy-arc\" id=\"arrow-ed93cd77229d4ed28d30e3d72b587235-0-2\" stroke-width=\"2px\" d=\"M420,177.0 C420,2.0 750.0,2.0 750.0,177.0\" fill=\"none\" stroke=\"currentColor\"/>\n",
       "    <text dy=\"1.25em\" style=\"font-size: 0.8em; letter-spacing: 1px\">\n",
       "        <textPath xlink:href=\"#arrow-ed93cd77229d4ed28d30e3d72b587235-0-2\" class=\"displacy-label\" startOffset=\"50%\" side=\"left\" fill=\"currentColor\" text-anchor=\"middle\">auxpass</textPath>\n",
       "    </text>\n",
       "    <path class=\"displacy-arrowhead\" d=\"M420,179.0 L412,167.0 428,167.0\" fill=\"currentColor\"/>\n",
       "</g>\n",
       "\n",
       "<g class=\"displacy-arrow\">\n",
       "    <path class=\"displacy-arc\" id=\"arrow-ed93cd77229d4ed28d30e3d72b587235-0-3\" stroke-width=\"2px\" d=\"M595,177.0 C595,89.5 745.0,89.5 745.0,177.0\" fill=\"none\" stroke=\"currentColor\"/>\n",
       "    <text dy=\"1.25em\" style=\"font-size: 0.8em; letter-spacing: 1px\">\n",
       "        <textPath xlink:href=\"#arrow-ed93cd77229d4ed28d30e3d72b587235-0-3\" class=\"displacy-label\" startOffset=\"50%\" side=\"left\" fill=\"currentColor\" text-anchor=\"middle\">npadvmod</textPath>\n",
       "    </text>\n",
       "    <path class=\"displacy-arrowhead\" d=\"M595,179.0 L587,167.0 603,167.0\" fill=\"currentColor\"/>\n",
       "</g>\n",
       "</svg></span>"
      ],
      "text/plain": [
       "<IPython.core.display.HTML object>"
      ]
     },
     "metadata": {},
     "output_type": "display_data"
    }
   ],
   "source": [
    "displacy.render(doc)"
   ]
  },
  {
   "cell_type": "markdown",
   "metadata": {},
   "source": [
    "* As you can see it is able to detect at most of the times the nature of each word: noun,verb.."
   ]
  },
  {
   "cell_type": "code",
   "execution_count": 46,
   "metadata": {},
   "outputs": [
    {
     "name": "stdout",
     "output_type": "stream",
     "text": [
      "Where ADV advmod\n",
      "does VERB ROOT\n",
      "Console PROPN nsubj\n",
      ". PUNCT punct\n",
      "WriteLine PROPN nsubj\n",
      "go VERB ROOT\n",
      "in ADP prep\n",
      "ASP.NET PROPN pobj\n",
      "? PUNCT punct\n"
     ]
    }
   ],
   "source": [
    "for t in nlp(\"Where does Console.WriteLine go in ASP.NET?\"):\n",
    "    print(t, t.pos_, t.dep_)"
   ]
  },
  {
   "cell_type": "markdown",
   "metadata": {},
   "source": [
    "#### 1.5. Detecting the word Go/GoLang (Programming Language) :"
   ]
  },
  {
   "cell_type": "markdown",
   "metadata": {},
   "source": [
    "* Now we are going to work with a bigger number of rows to detect the programming language go but we are going to use only the feature title to go faster."
   ]
  },
  {
   "cell_type": "code",
   "execution_count": 47,
   "metadata": {},
   "outputs": [],
   "source": [
    "df = (pd.read_csv(\"C:/Users/khaoula/Desktop/spacy-project/Questions.csv\", nrows=2_000_000, \n",
    "                  encoding=\"ISO-8859-1\", usecols=['Title', 'Id']))\n",
    "\n",
    "titles = [_ for _ in df.loc[lambda d: d['Title'].str.lower().str.contains(\"go\")]['Title']]"
   ]
  },
  {
   "cell_type": "markdown",
   "metadata": {},
   "source": [
    "* We are going to disable en_core_web_sm ner also to make the model faster :"
   ]
  },
  {
   "cell_type": "code",
   "execution_count": 48,
   "metadata": {},
   "outputs": [],
   "source": [
    "nlp = spacy.load(\"en_core_web_sm\", disable=[\"ner\"])"
   ]
  },
  {
   "cell_type": "markdown",
   "metadata": {},
   "source": [
    "* We are going to search fo the words go or golang that are nouns in all the titles and we will use also nlp.pipe for a better performance :"
   ]
  },
  {
   "cell_type": "code",
   "execution_count": 49,
   "metadata": {
    "scrolled": true
   },
   "outputs": [
    {
     "name": "stdout",
     "output_type": "stream",
     "text": [
      "Wall time: 0 ns\n"
     ]
    },
    {
     "data": {
      "text/plain": [
       "[Removing all event handlers in one go,\n",
       " multi package makefile example for go,\n",
       " Trouble reading from a socket in go,\n",
       " SOAPUI & Groovy Scripts, executing multiple SQL statements in one go,\n",
       " What's the simplest way to edit conflicted files in one go when using git and an editor like Vim or textmate?,\n",
       " what's the state of go language IDE support?,\n",
       " making generic algorithms in go,\n",
       " How do I allocate memory for an array in the go programming language?,\n",
       " What's wrong with the following go code that I receive 'all goroutines are asleep - deadlock!',\n",
       " Pass variables into Thread on the go?,\n",
       " If two options are the same go to next option in second select,\n",
       " C macro define many variables in one go,\n",
       " How to use LevelDB in go?,\n",
       " Change EOL on multiple files in one go,\n",
       " Getting CPU usage with golang,\n",
       " Auto-complete with go-mode,\n",
       " How do I use an custom int type with range in go?,\n",
       " How to generate IObservable index delta on the go?,\n",
       " Pylint ignores disable-msg - but only dependent on other modules linted in the same go,\n",
       " how to write a directory [not just the files in it ] to a tar.gz file in golang,\n",
       " how to convert a struct pointer to list of type pointers in go,\n",
       " Create pdf from html in golang,\n",
       " Multiple methods for tabs with Jquery or google, no go,\n",
       " How to read utf16 text file to string in golang?,\n",
       " Static html page created the WebSocket connection golang server directly,\n",
       " Change values while iterating in golang,\n",
       " crm 2011 lookup autocomplete on a go,\n",
       " Android - which direction does the the y-axis go, top-to-bottom or bottom-to-top, in OpenGL textures, Bitmaps and GLUtils.texSubImage2D?,\n",
       " navigation in video stream, reverse proxy in golang,\n",
       " Canvas draw shapes on the go]"
      ]
     },
     "execution_count": 49,
     "metadata": {},
     "output_type": "execute_result"
    }
   ],
   "source": [
    "%time\n",
    "def has_golang(doc):\n",
    "    for t in doc:\n",
    "        if t.lower_ in [\"go\", \"golang\"]:\n",
    "            if t.pos_ == \"NOUN\":\n",
    "                return True \n",
    "    return False\n",
    "\n",
    "g = (doc for doc in nlp.pipe(titles) if has_golang(doc))\n",
    "[next(g) for i in range(30)]"
   ]
  },
  {
   "cell_type": "markdown",
   "metadata": {},
   "source": [
    "#### 1.6. Benchmarking:"
   ]
  },
  {
   "cell_type": "markdown",
   "metadata": {},
   "source": [
    "* Loading the Tags Data and stocking the IDs of rows having go as a Tag:"
   ]
  },
  {
   "cell_type": "code",
   "execution_count": 50,
   "metadata": {},
   "outputs": [],
   "source": [
    "df_tags = pd.read_csv(\"C:/Users/khaoula/Desktop/spacy-project/Tags.csv\")\n",
    "go_ids = df_tags.loc[lambda d: d['Tag'] == 'go']['Id']"
   ]
  },
  {
   "cell_type": "markdown",
   "metadata": {},
   "source": [
    "* preparing the detecting function :"
   ]
  },
  {
   "cell_type": "code",
   "execution_count": 51,
   "metadata": {},
   "outputs": [],
   "source": [
    "def has_go_token(doc):\n",
    "    for t in doc:\n",
    "        if t.lower_ in ['go', 'golang']:\n",
    "            if t.pos_ != 'VERB':\n",
    "                return True\n",
    "    return False"
   ]
  },
  {
   "cell_type": "markdown",
   "metadata": {},
   "source": [
    "* We are not going to detect phrases containing go as a token we are only going to detect phrases that contain go as a Tag and it's not a verb at the same time:"
   ]
  },
  {
   "cell_type": "code",
   "execution_count": 52,
   "metadata": {},
   "outputs": [
    {
     "data": {
      "text/plain": [
       "(1858, 874, 73)"
      ]
     },
     "execution_count": 52,
     "metadata": {},
     "output_type": "execute_result"
    }
   ],
   "source": [
    "all_go_sentences = df.loc[lambda d: d['Id'].isin(go_ids)]['Title'].tolist()\n",
    "detectable = [d.text for d in nlp.pipe(all_go_sentences) if has_go_token(d)]\n",
    "\n",
    "non_detectable = (df\n",
    "                  .loc[lambda d: ~d['Id'].isin(go_ids)]\n",
    "                  .loc[lambda d: d['Title'].str.lower().str.contains(\"go\")]\n",
    "                  ['Title']\n",
    "                  .tolist())\n",
    "\n",
    "non_detectable = [d.text for d in nlp.pipe(non_detectable) if has_go_token(d)]\n",
    "\n",
    "len(all_go_sentences), len(detectable), len(non_detectable)"
   ]
  },
  {
   "cell_type": "markdown",
   "metadata": {},
   "source": [
    "* Now we are going to calculate precision ,recall and accuracy to see how well the function performs:"
   ]
  },
  {
   "cell_type": "code",
   "execution_count": 53,
   "metadata": {},
   "outputs": [
    {
     "data": {
      "text/plain": [
       "'0.9229144667370645,1.0,0.9229144667370645,en_core_web_sm,not-verb-but-pobj'"
      ]
     },
     "execution_count": 53,
     "metadata": {},
     "output_type": "execute_result"
    }
   ],
   "source": [
    "method = \"not-verb-but-pobj\"\n",
    "\n",
    "correct = sum(has_go_token(doc) for doc in model.pipe(detectable))\n",
    "wrong = sum(has_go_token(doc) for doc in model.pipe(non_detectable))\n",
    "precision = correct/(correct + wrong)\n",
    "recall = correct/len(detectable)\n",
    "accuracy = (correct + len(non_detectable) - wrong)/(len(detectable) + len(non_detectable))\n",
    "\n",
    "f\"{precision},{recall},{accuracy},{model_name},{method}\" # this is logged"
   ]
  },
  {
   "cell_type": "markdown",
   "metadata": {},
   "source": [
    "## 2. Detecting programming languages (Rule Based Matching) :"
   ]
  },
  {
   "cell_type": "code",
   "execution_count": 78,
   "metadata": {},
   "outputs": [],
   "source": [
    "doc = nlp(\"i am an iOS dev and I like to code in objective-c\")"
   ]
  },
  {
   "cell_type": "code",
   "execution_count": 79,
   "metadata": {},
   "outputs": [
    {
     "data": {
      "text/plain": [
       "[i, am, an, iOS, dev, and, I, like, to, code, in, objective, -, c]"
      ]
     },
     "execution_count": 79,
     "metadata": {},
     "output_type": "execute_result"
    }
   ],
   "source": [
    "[t for t in doc]"
   ]
  },
  {
   "cell_type": "markdown",
   "metadata": {},
   "source": [
    "* Objective-c is detected as 3 separate tokens because of '-' between objective and c.That's why we are going to use matchers:"
   ]
  },
  {
   "cell_type": "markdown",
   "metadata": {},
   "source": [
    "####  2.1. Detecting Programming languages using  a matcher :  "
   ]
  },
  {
   "cell_type": "code",
   "execution_count": 80,
   "metadata": {},
   "outputs": [],
   "source": [
    "obj_c_pattern1 = [{'LOWER': 'objective'},\n",
    "                  {'IS_PUNCT': True, 'OP': '?'},\n",
    "                  {'LOWER': 'c'}]\n",
    "\n",
    "obj_c_pattern2 = [{'LOWER': 'objectivec'}]\n",
    "\n",
    "golang_pattern1 = [{'LOWER': 'golang'}] \n",
    "golang_pattern2 = [{'LOWER': 'go', \n",
    "                    'POS': {'NOT_IN': ['VERB']}}]\n",
    "\n",
    "python_pattern = [{'LOWER': 'python'}]\n",
    "ruby_pattern   = [{'LOWER': 'ruby'}]\n",
    "js_pattern     = [{'LOWER': {'IN': ['js', 'javascript']}}]"
   ]
  },
  {
   "cell_type": "code",
   "execution_count": 83,
   "metadata": {},
   "outputs": [],
   "source": [
    "matcher = Matcher(nlp.vocab)\n",
    "\n",
    "matcher.add('GO_LANG', [golang_pattern1, golang_pattern2])\n",
    "matcher.add(\"OBJ_C_LANG\", [ obj_c_pattern1, obj_c_pattern2])\n",
    "matcher.add(\"PYTHON_LANG\",  [python_pattern])\n",
    "matcher.add(\"JS_LANG\",  [js_pattern])\n",
    "matcher.add(\"RUBY_LANG\",[ruby_pattern])"
   ]
  },
  {
   "cell_type": "markdown",
   "metadata": {},
   "source": [
    "* And now let's test and see the results :"
   ]
  },
  {
   "cell_type": "code",
   "execution_count": 87,
   "metadata": {},
   "outputs": [
    {
     "name": "stdout",
     "output_type": "stream",
     "text": [
      "python\n",
      "golang\n",
      "objective-c\n"
     ]
    }
   ],
   "source": [
    "doc = nlp(\"I am an iOS dev who codes in both python, go/golang as well as objective-c\")\n",
    "for match_id, start, end in matcher(doc):\n",
    "    print(doc[start: end])"
   ]
  },
  {
   "cell_type": "code",
   "execution_count": 88,
   "metadata": {},
   "outputs": [
    {
     "name": "stdout",
     "output_type": "stream",
     "text": [
      "js\n",
      "ruby\n"
     ]
    }
   ],
   "source": [
    "doc = nlp(\"I've done some js and ruby and go programming\")\n",
    "for match_id, start, end in matcher(doc):\n",
    "    print(doc[start: end])"
   ]
  },
  {
   "cell_type": "code",
   "execution_count": 89,
   "metadata": {},
   "outputs": [
    {
     "data": {
      "text/plain": [
       "[(I, 'PRON'),\n",
       " ('ve, 'AUX'),\n",
       " (done, 'VERB'),\n",
       " (some, 'DET'),\n",
       " (js, 'ADJ'),\n",
       " (and, 'CCONJ'),\n",
       " (ruby, 'NOUN'),\n",
       " (and, 'CCONJ'),\n",
       " (go, 'VERB'),\n",
       " (programming, 'VERB')]"
      ]
     },
     "execution_count": 89,
     "metadata": {},
     "output_type": "execute_result"
    }
   ],
   "source": [
    "[(t,t.pos_) for t in doc]"
   ]
  },
  {
   "cell_type": "markdown",
   "metadata": {},
   "source": [
    "* Now we are detecting most languages but we are not detecting go because it's recognized as a verb ."
   ]
  },
  {
   "cell_type": "markdown",
   "metadata": {},
   "source": [
    "####  2.1. Benchmarking :"
   ]
  },
  {
   "cell_type": "code",
   "execution_count": 90,
   "metadata": {},
   "outputs": [],
   "source": [
    "titles = (_ for _ in df['Title'] if \"python\" in _.lower())"
   ]
  },
  {
   "cell_type": "code",
   "execution_count": 91,
   "metadata": {},
   "outputs": [
    {
     "name": "stdout",
     "output_type": "stream",
     "text": [
      "mod_python/MySQL error on INSERT with a lot of data: \"OperationalError: (2006, 'MySQL server has gone away')\"\n",
      "Running subversion under apache and mod_python\n",
      "What's the best way to embed IronPython inside my C# App?\n",
      "How to set the PYTHONPATH in Emacs?\n",
      "wxPython wxDC object from win32gui.GetDC\n",
      "Need skeleton code to call Excel VBA from PythonWin\n",
      "Questions for python->scheme conversion\n",
      "wxPython and sharing objects between windows\n",
      "Django on IronPython\n",
      "IronPython Webframework\n",
      "A SuggestBox for wxPython?\n",
      "Intercepting Method Access on the Host Program of IronPython\n",
      "Is there anything like IPython / IRB for Perl?\n"
     ]
    }
   ],
   "source": [
    "for i in range(200):\n",
    "    doc = nlp(next(titles))\n",
    "    if len(matcher(doc)) == 0:\n",
    "        print(doc)"
   ]
  },
  {
   "cell_type": "markdown",
   "metadata": {},
   "source": [
    "## 3. Evaluating our approach :"
   ]
  },
  {
   "cell_type": "markdown",
   "metadata": {},
   "source": [
    "####  3.2. Evaluating :"
   ]
  },
  {
   "cell_type": "markdown",
   "metadata": {},
   "source": [
    "* Let's highlight the detected tokens  using IPython.display :"
   ]
  },
  {
   "cell_type": "code",
   "execution_count": 93,
   "metadata": {},
   "outputs": [],
   "source": [
    "def style(s, bold=False):\n",
    "    blob = f\"<text>{s}</text>\"\n",
    "    if bold:\n",
    "        blob = f\"<b style='background-color: #fff59d'>{blob}</b>\"\n",
    "    return blob\n",
    "\n",
    "def html_generator(g, n=10):\n",
    "    blob = \"\"\n",
    "    for i in range(n):\n",
    "        doc = next(g)\n",
    "\n",
    "        state = [[t, False] for t in doc]\n",
    "        for idx, start, end in matcher(doc):\n",
    "            for i in range(start, end):\n",
    "                state[i][1] = True\n",
    "        blob += style(' '.join([style(str(t[0]), bold=t[1]) for t in state]) + '<br>') \n",
    "    return blob"
   ]
  },
  {
   "cell_type": "code",
   "execution_count": 95,
   "metadata": {},
   "outputs": [
    {
     "data": {
      "text/html": [
       "<text><text>How</text> <text>do</text> <text>I</text> <text>run</text> <text>Rake</text> <text>tasks</text> <text>within</text> <text>a</text> <b style='background-color: #fff59d'><text>Ruby</text></b> <text>script</text> <text>?</text><br></text><text><text>How</text> <text>can</text> <text>I</text> <text>create</text> <text>Prototype</text> <text>Methods</text> <text>(</text> <text>like</text> <b style='background-color: #fff59d'><text>JavaScript</text></b> <text>)</text> <text>in</text> <text>C#.Net</text> <text>?</text><br></text><text><text>Some</text> <text>kind</text> <text>of</text> <text>task</text> <text>manager</text> <text>for</text> <b style='background-color: #fff59d'><text>JavaScript</text></b> <text>in</text> <text>Firefox</text> <text>3</text> <text>?</text><br></text><text><text>Best</text> <text>practices</text> <text>for</text> <text>managing</text> <text>and</text> <text>deploying</text> <text>large</text> <b style='background-color: #fff59d'><text>JavaScript</text></b> <text>apps</text><br></text><text><text>Create</text> <text>an</text> <text>encrypted</text> <text>ZIP</text> <text>file</text> <text>in</text> <b style='background-color: #fff59d'><text>Python</text></b><br></text><text><text>Code</text> <text>to</text> <text>ask</text> <text>yes</text> <text>/</text> <text>no</text> <text>question</text> <text>in</text> <b style='background-color: #fff59d'><text>javascript</text></b><br></text><text><text>Executing</text> <b style='background-color: #fff59d'><text>JavaScript</text></b> <text>from</text> <text>Flex</text> <text>:</text> <text>Is</text> <text>this</text> <b style='background-color: #fff59d'><text>javascript</text></b> <text>function</text> <text>dangerous</text> <text>?</text><br></text><text><text>What</text> <b style='background-color: #fff59d'><text>Javascript</text></b> <text>rich</text> <text>text</text> <text>editor</text> <text>will</text> <text>not</text> <text>break</text> <text>the</text> <text>browser</text> <text>'s</text> <text>spellcheck</text> <text>?</text><br></text><text><text>How</text> <text>do</text> <text>I</text> <text>marshal</text> <text>a</text> <text>lambda</text> <text>(</text> <text>Proc</text> <text>)</text> <text>in</text> <b style='background-color: #fff59d'><text>Ruby</text></b> <text>?</text><br></text><text><b style='background-color: #fff59d'><text>Ruby</text></b> <text>Performance</text><br></text>"
      ],
      "text/plain": [
       "<IPython.core.display.HTML object>"
      ]
     },
     "execution_count": 95,
     "metadata": {},
     "output_type": "execute_result"
    }
   ],
   "source": [
    "titles = (_ for _ in df['Title'])\n",
    "g = (d for d in nlp.pipe(titles) if len(matcher(d))>0)\n",
    "html_print(html_generator(g, n=10))"
   ]
  },
  {
   "cell_type": "markdown",
   "metadata": {},
   "source": [
    "* Now we can see clearly what we heve detected but the problem is there still a lot of languages that are not detected just like c#.That's why we are going to make a bigger number of patterns in order to pick up all programming languages:"
   ]
  },
  {
   "cell_type": "code",
   "execution_count": 96,
   "metadata": {},
   "outputs": [],
   "source": [
    "obj_c_pattern1 = [{'LOWER': 'objective'},\n",
    "                  {'IS_PUNCT': True, 'OP': '?'},\n",
    "                  {'LOWER': 'c'}]\n",
    "obj_c_pattern2 = [{'LOWER': 'objectivec'}]\n",
    "\n",
    "csharp_pattern1 = [{'LOWER': 'c'}, {'LOWER': '#'}]\n",
    "csharp_pattern2 = [{'LOWER': 'c'}, {'LOWER': 'sharp'}]\n",
    "csharp_pattern3 = [{'LOWER': 'c#'}]\n",
    "\n",
    "fsharp_pattern1 = [{'LOWER': 'f'}, {'LOWER': '#'}]\n",
    "fsharp_pattern2 = [{'LOWER': 'f'}, {'LOWER': 'sharp'}]\n",
    "fsharp_pattern3 = [{'LOWER': 'f#'}]\n",
    " \n",
    "dot_net_pattern = [{'LOWER': '.net'}]\n",
    "\n",
    "php_pattern = [{'LOWER': 'php'}]\n",
    "\n",
    "asp_net_pattern = [{'LOWER': {'IN': ['asp.net', 'asp']}}]\n",
    "\n",
    "python_pattern = [{'LOWER': 'python'}]\n",
    "\n",
    "lisp_pattern1  = [{'LOWER': 'lisp'}]\n",
    "lisp_pattern2  = [{'LOWER': 'common'}, {'LOWER': 'lisp'}]\n",
    "\n",
    "go_pattern1    = [{'LOWER': 'go', 'POS': {'NOT_IN': ['VERB']}}]\n",
    "go_pattern2    = [{'LOWER': 'golang'}]\n",
    "\n",
    "ruby_pattern   = [{'LOWER': 'ruby'}]\n",
    "\n",
    "sql_pattern    = [{'LOWER': 'sql'}]\n",
    "\n",
    "matlab_pattern = [{'LOWER': 'matlab'}]\n",
    "\n",
    "perl_pattern   = [{'LOWER': 'perl'}]\n",
    "\n",
    "html_pattern   = [{'LOWER': 'html'}]\n",
    "\n",
    "css_pattern   = [{'LOWER': 'css'}]\n",
    "\n",
    "js_pattern     = [{'LOWER': {'IN': ['js', 'javascript']}}]\n",
    "\n",
    "java_pattern   = [{'LOWER': 'java'}]\n",
    "\n",
    "c_pattern      = [{'LOWER': 'c'}]\n",
    "\n",
    "cpp_pattern    = [{'LOWER': 'c++'}]"
   ]
  },
  {
   "cell_type": "code",
   "execution_count": 97,
   "metadata": {},
   "outputs": [],
   "source": [
    "matcher = Matcher(nlp.vocab, validate=True)\n",
    "matcher.add(\"OBJ_C_LANG\",[obj_c_pattern1, obj_c_pattern2])\n",
    "matcher.add(\"PYTHON_LANG\", [python_pattern])\n",
    "matcher.add(\"GO_LANG\", [go_pattern1, go_pattern2])\n",
    "matcher.add(\"CSHARP_LANG\",[csharp_pattern1, csharp_pattern2, csharp_pattern3])\n",
    "matcher.add(\"FSHARP_LANG\", [fsharp_pattern1, fsharp_pattern2, fsharp_pattern3])\n",
    "matcher.add(\"JS_LANG\",[js_pattern])\n",
    "matcher.add(\"JAVA_LANG\",[java_pattern])\n",
    "matcher.add(\"RUBY_LANG\",[ruby_pattern])\n",
    "matcher.add(\"SQL_LANG\", [sql_pattern])\n",
    "matcher.add(\"C_LANG\",[c_pattern])\n",
    "matcher.add(\"CPP_LANG\", [cpp_pattern])\n",
    "matcher.add(\"PHP_LANG\", [php_pattern])\n",
    "matcher.add(\"MATLAB_LANG\", [matlab_pattern])\n",
    "matcher.add(\"PERL_LANG\", [perl_pattern])\n",
    "matcher.add(\"LISP_LANG\", [lisp_pattern1, lisp_pattern2])\n",
    "matcher.add(\"HTML_LANG\", [html_pattern])\n",
    "matcher.add(\"CSS_LANG\", [css_pattern])"
   ]
  },
  {
   "cell_type": "code",
   "execution_count": 100,
   "metadata": {},
   "outputs": [
    {
     "data": {
      "text/html": [
       "<text><text>What</text> <text>is</text> <text>the</text> <text>best</text> <text>way</text> <text>to</text> <text>connect</text> <text>and</text> <text>use</text> <text>a</text> <text>sqlite</text> <text>database</text> <text>from</text> <b style='background-color: #fff59d'><text>C</text></b> <b style='background-color: #fff59d'><text>#</text></b><br></text><text><text>Comparing</text> <text>Arrays</text> <text>of</text> <text>Objects</text> <text>in</text> <b style='background-color: #fff59d'><text>JavaScript</text></b><br></text><text><text>How</text> <text>to</text> <text>convert</text> <text>std::string</text> <text>to</text> <text>LPCWSTR</text> <text>in</text> <b style='background-color: #fff59d'><text>C++</text></b> <text>(</text> <text>Unicode</text> <text>)</text><br></text><text><text>How</text> <text>to</text> <text>add</text> <text>(</text> <text>simple</text> <text>)</text> <text>tracing</text> <text>in</text> <b style='background-color: #fff59d'><text>C</text></b> <b style='background-color: #fff59d'><text>#</text></b> <text>?</text><br></text><text><b style='background-color: #fff59d'><text>C++</text></b> <text>:</text> <text>Opening</text> <text>a</text> <text>file</text> <text>in</text> <text>non</text> <text>exclusive</text> <text>mode</text><br></text><text><b style='background-color: #fff59d'><text>SQL</text></b> <text>Server</text> <text>DateTime</text> <text>conversion</text> <text>failure</text><br></text><text><text>Can</text> <text>I</text> <text>maintain</text> <text>state</text> <text>between</text> <text>calls</text> <text>to</text> <text>a</text> <b style='background-color: #fff59d'><text>SQL</text></b> <text>Server</text> <text>UDF</text> <text>?</text><br></text><text><text>Linq</text> <text>To</text> <b style='background-color: #fff59d'><text>SQL</text></b> <text>:</text> <text>Can</text> <text>I</text> <text>eager</text> <text>load</text> <text>only</text> <text>one</text> <text>field</text> <text>in</text> <text>a</text> <text>joined</text> <text>table</text> <text>?</text><br></text><text><b style='background-color: #fff59d'><text>Java</text></b> <text>return</text> <text>copy</text> <text>to</text> <text>hide</text> <text>future</text> <text>changes</text><br></text><text><text>How</text> <text>to</text> <text>get</text> <text>your</text> <text>own</text> <text>(</text> <text>local</text> <text>)</text> <text>IP</text> <text>-</text> <text>Address</text> <text>from</text> <text>an</text> <text>udp</text> <text>-</text> <text>socket</text> <text>(</text> <b style='background-color: #fff59d'><text>C</text></b> <text>/</text> <b style='background-color: #fff59d'><text>C++</text></b> <text>)</text><br></text>"
      ],
      "text/plain": [
       "<IPython.core.display.HTML object>"
      ]
     },
     "execution_count": 100,
     "metadata": {},
     "output_type": "execute_result"
    }
   ],
   "source": [
    "titles = (_ for _ in df['Title'][:2000])\n",
    "sum(1 for d in nlp.pipe(titles) if len(matcher(d))>0)\n",
    "html_print(html_generator(g, n=10))"
   ]
  },
  {
   "cell_type": "markdown",
   "metadata": {},
   "source": [
    "####  3.2. Language Version :"
   ]
  },
  {
   "cell_type": "markdown",
   "metadata": {},
   "source": [
    "* Let's make a function to deal with versions. It creates many patterns out of a single pattern:"
   ]
  },
  {
   "cell_type": "code",
   "execution_count": 101,
   "metadata": {},
   "outputs": [
    {
     "data": {
      "text/plain": [
       "[[{'LOWER': 'python'}],\n",
       " [{'LOWER': {'REGEX': '(python\\\\d+\\\\.?\\\\d*.?\\\\d*)'}}],\n",
       " [{'LOWER': 'python'}, {'TEXT': {'REGEX': '(\\\\d+\\\\.?\\\\d*.?\\\\d*)'}}]]"
      ]
     },
     "execution_count": 101,
     "metadata": {},
     "output_type": "execute_result"
    }
   ],
   "source": [
    "def create_versioned(name):\n",
    "    return [\n",
    "        [{'LOWER': name}], \n",
    "        [{'LOWER': {'REGEX': f'({name}\\d+\\.?\\d*.?\\d*)'}}], \n",
    "        [{'LOWER': name}, {'TEXT': {'REGEX': '(\\d+\\.?\\d*.?\\d*)'}}],\n",
    "    ]\n",
    "\n",
    "create_versioned('python')"
   ]
  },
  {
   "cell_type": "code",
   "execution_count": 103,
   "metadata": {},
   "outputs": [
    {
     "data": {
      "text/html": [
       "<text><text>i</text> <text>use</text> <b style='background-color: #fff59d'><text>python</text></b> <text>,</text> <b style='background-color: #fff59d'><text>python3.7</text></b> <text>,</text> <b style='background-color: #fff59d'><text>python</text></b> <b style='background-color: #fff59d'><text>3.6.6</text></b><br></text><text><text>also</text> <b style='background-color: #fff59d'><text>python3</text></b> <text>,</text> <b style='background-color: #fff59d'><text>python</text></b> <b style='background-color: #fff59d'><text>2</text></b> <text>and</text> <b style='background-color: #fff59d'><text>python3.2.1</text></b><br></text><text><text>not</text> <text>bypython</text> <text>,</text> <text>pythonn</text> <text>and</text> <text>py36</text><br></text>"
      ],
      "text/plain": [
       "<IPython.core.display.HTML object>"
      ]
     },
     "execution_count": 103,
     "metadata": {},
     "output_type": "execute_result"
    }
   ],
   "source": [
    "matcher = Matcher(nlp.vocab, validate=True)\n",
    "matcher.add(\"PYTHON_LANG\",  [*create_versioned('python')])\n",
    "g = nlp.pipe([\"i use python, python3.7, python 3.6.6\", \n",
    "              \"also python3, python 2 and python3.2.1\", \n",
    "              \"not bypython, pythonn and py36\"])\n",
    "html_print(html_generator(g, n=3))"
   ]
  },
  {
   "cell_type": "code",
   "execution_count": null,
   "metadata": {},
   "outputs": [],
   "source": []
  }
 ],
 "metadata": {
  "kernelspec": {
   "display_name": "Python 3",
   "language": "python",
   "name": "python3"
  },
  "language_info": {
   "codemirror_mode": {
    "name": "ipython",
    "version": 3
   },
   "file_extension": ".py",
   "mimetype": "text/x-python",
   "name": "python",
   "nbconvert_exporter": "python",
   "pygments_lexer": "ipython3",
   "version": "3.8.8"
  }
 },
 "nbformat": 4,
 "nbformat_minor": 4
}
