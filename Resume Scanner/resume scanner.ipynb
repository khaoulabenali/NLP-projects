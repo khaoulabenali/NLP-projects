{
 "cells": [
  {
   "cell_type": "markdown",
   "id": "a76d07dc",
   "metadata": {},
   "source": [
    "# 1. Importing necessary Libraries :"
   ]
  },
  {
   "cell_type": "code",
   "execution_count": 4,
   "id": "5d815921",
   "metadata": {},
   "outputs": [],
   "source": [
    "import docx2txt\n",
    "from sklearn.metrics.pairwise import cosine_similarity\n",
    "from sklearn.feature_extraction.text import CountVectorizer"
   ]
  },
  {
   "cell_type": "markdown",
   "id": "8405d8d5",
   "metadata": {},
   "source": [
    "# 2. Loading the resume and the job description :"
   ]
  },
  {
   "cell_type": "code",
   "execution_count": 9,
   "id": "b7fc60b8",
   "metadata": {},
   "outputs": [],
   "source": [
    "job_description = docx2txt.process('C:/Users/khaoula/Desktop/Resume Scanner/job.docx')\n",
    "resume= docx2txt.process('C:/Users/khaoula/Desktop/Resume Scanner/cv_khaoula_benali.docx')"
   ]
  },
  {
   "cell_type": "code",
   "execution_count": 16,
   "id": "4efbf7a5",
   "metadata": {},
   "outputs": [
    {
     "name": "stdout",
     "output_type": "stream",
     "text": [
      "We are looking for a Senior Web Developer to build and maintain functional web pages and applications.Senior Web Developer responsibilities include leading a team of junior developers, refining website specifications and resolving technical issues. To be successful in this role, you should have extensive experience building web pages from scratch and in-depth knowledge of at least one of the following programming languages: Javascript, Ruby or PHP.Ultimately, you will ensure our web pages are up and running and cover both internal and customer needs.ResponsibilitiesIdentify user and system requirements for new websites and applicationsPrioritize software development projects, set timelines and assign tasks to team membersCreate wireframes to decide on layoutWrite or review code for various applicationsRun functionality testings and debug codeOversee junior web developers and evaluate their performanceLiaise with designers to decide on UI/UX elements (like graphics and navigation buttons)Ensure our software documentation is up-to-dateCollaborate with mobile developers to build mobile-responsive websitesRequirementsWork experience as a Senior Web DeveloperExpertise in at least one programming language, preferably Javascript, Ruby or PHPSolid knowledge of HTML/CSSExperience with mockup and UI prototyping toolsUnderstanding of security practicesFamiliarity with network diagnostics toolsTeam management skillsBSc/MSc in Computer Science or relevant field\n"
     ]
    }
   ],
   "source": [
    "print(job_description)"
   ]
  },
  {
   "cell_type": "code",
   "execution_count": 11,
   "id": "d1350546",
   "metadata": {},
   "outputs": [
    {
     "name": "stdout",
     "output_type": "stream",
     "text": [
      "ACADEMIC HISTORY\n",
      "\n",
      "National School of Computer Science-ENSI\n",
      "\n",
      "NATIONAL ENGINEERING DEGREE IN COMPUTER SCIENCE\n",
      "\n",
      "SPECIALTY : ARTIFICIAL INTELLIGENCE\n",
      "\n",
      "\n",
      "\n",
      "\n",
      "\n",
      "\n",
      "\n",
      "\n",
      "2019-2022\n",
      "\n",
      "\n",
      "\n",
      "Preparatory Institute for Engineering Studies of Nabeul-IPEIN\n",
      "\n",
      "\n",
      "\n",
      "\n",
      "\n",
      "BENALI KHAOULA\n",
      "\n",
      "Computer science engineering\n",
      "\n",
      "\n",
      "PREPARATORY CYCLE MATH- PHYSICS\n",
      "\n",
      "\n",
      "\n",
      "Pioneer High School of Gabes-LPG\n",
      "\n",
      "MATHEMATICS BACCALAUREATE DIPLOMA\n",
      "\n",
      "\n",
      "\n",
      "INTERNSHIPS\n",
      "\n",
      "Universymo\n",
      "\n",
      "SUMMER INTERNSHIP II2 , 06 / 2021 - 08 / 2021\n",
      "\n",
      "\n",
      "2017-2019\n",
      "\n",
      "\n",
      "\n",
      "\n",
      "\n",
      "2013-2017\n",
      "\n",
      "\n",
      "\n",
      "\n",
      "\n",
      "OBJECTIVE\n",
      "\n",
      "\n",
      "student\n",
      "\n",
      "\n",
      "Development of a smart RADAR  application  based  on  Computer  Vision. Key words : Python/java/Android Studio/OpenCV/MobileNetSSD.\n",
      "\n",
      "\n",
      "\n",
      "ENSI\n",
      "\n",
      "\n",
      "\n",
      "\n",
      "\n",
      "Young motivated and ambitious computer science student specialized in Artificial\n",
      "\n",
      "Intelligence looking for an end-of-studies internship.\n",
      "\n",
      "CONTACT DETAILS\n",
      "\n",
      "(+216)42112744\n",
      "\n",
      "khaoula.benali@ensi-uma.tn\n",
      "\n",
      "https://www.linkedin.com/in/khaoula- benali-b43629202/\n",
      "\n",
      "\n",
      "\n",
      "SKILLS\n",
      "\n",
      "Programming languages : Python / C / C++ / Java / R.\n",
      "\n",
      "Web : html / css / javascript / php.\n",
      "\n",
      "DBMS : Oracle / PL/SQL / MySQL / NoSQL.\n",
      "\n",
      "AI frameworks :Sickit Learn / Keras /\n",
      "\n",
      "Pytorch  /  OpenCV  /  Tensorflow  /  pandas.\n",
      "\n",
      "Other :  Problem  Solving  /  Group  Work.\n",
      "\n",
      "\n",
      "\n",
      "ACHIEVEMENTS AND AWARDS\n",
      "\n",
      "Google Cloud  Platform  Fundamentals  certificate. Data Science Math skills certificate.\n",
      "\n",
      "The  Data  Scientist  Toolbox  Certificate.\n",
      "\n",
      "\n",
      "\n",
      "SOCIAL LIFE\n",
      "\n",
      "Member of Robotic Association ENSI. Member of OSSEC ENSI.\n",
      "\n",
      "\n",
      "\n",
      "LANGUAGES\n",
      "\n",
      "English (Professional) French (Professional) Arabic (Native)\n",
      "\n",
      "German   (Basic)\n",
      "\n",
      "\n",
      "\n",
      "INTERESTS\n",
      "\n",
      "Painting Reading\n",
      "\n",
      "\n",
      "SUMMER  INTERNSHIP II1 , 06 / 2020 - 08 / 2020\n",
      "\n",
      "Simulation  of  a  Smart  Parking.\n",
      "\n",
      "Key words : Python / MySQL / PyQt5\n",
      "\n",
      "\n",
      "\n",
      "\n",
      "\n",
      "ACADEMIC PROJECTS\n",
      "\n",
      "Voice Assistant for Travelers\n",
      "\n",
      "Voice Chatbot that offers  recommendations/information  about  most visited sites, shows location/directions to a chosen destination and translates from English to any other language.\n",
      "\n",
      "KEY WORDS : PYTHON / TENSORFLOW / NLTK / KIVY / VOICE_RECOGNITION\n",
      "\n",
      "\n",
      "\n",
      "Customer Classification system\n",
      "\n",
      "Developing multiple models to predict the loyalty of customers to their banks(Estimating whether  the  customer  is  going  to  leave the  bank  or\n",
      "\n",
      "not)\n",
      "\n",
      "K EY WORDS : LR / KNN / SVM / DECISION TREES / RANDOM FORESTS / MLPCLASSIFIER.\n",
      "\n",
      "Smart door\n",
      "\n",
      "An application that recognizes faces and  decides  whether  to  open  the door or to keep it closed.\n",
      "\n",
      "KEY WORDS : PYTHON / OPENCV / TKINTER / CNN.\n",
      "\n",
      "\n",
      "\n",
      "House Price Prediction\n",
      "\n",
      "\n",
      "\n",
      "Analysing  the  content  of  a  dataset  of  houses  information  and  developing a prediction model to predict houses prices\n",
      "\n",
      "KEY WORDS : DATA MINING / CRISP- DM / FE.\n",
      "\n",
      "\n",
      "\n",
      "MINI-PROJECTS\n",
      "\n",
      "-  Tunisian  GDP prediction  :\n",
      "\n",
      "Comparision between Logistic Regression and CNN for the prediction of Tunisian GDP.\n",
      "\n",
      "-Maze of covid19 game :\n",
      "\n",
      "Development of 2D game using OOP.\n",
      "\n",
      "-Multi-layer  perceptron  :\n",
      "\n",
      "Direct  application  of  error  back-propagation.\n",
      "\n",
      "-Garbage  collector  :\n",
      "\n",
      "Development  of  a  multi-agent  system  using  Netlogo.\n"
     ]
    }
   ],
   "source": [
    "print(resume)"
   ]
  },
  {
   "cell_type": "markdown",
   "id": "0b4df6bd",
   "metadata": {},
   "source": [
    "# 3. Extracting Similarity Between Resume And Job Description :"
   ]
  },
  {
   "cell_type": "code",
   "execution_count": 12,
   "id": "4f99570f",
   "metadata": {},
   "outputs": [],
   "source": [
    "content = [job_description, resume]"
   ]
  },
  {
   "cell_type": "markdown",
   "id": "fa7bb248",
   "metadata": {},
   "source": [
    "* And now we have to convert our text into vectors to extract the similarity between the resume and the job description using CountVectorizer and cosine_similarity :"
   ]
  },
  {
   "cell_type": "code",
   "execution_count": 13,
   "id": "8449ee04",
   "metadata": {},
   "outputs": [],
   "source": [
    "cv = CountVectorizer()\n",
    "count_matrix = cv.fit_transform(content)"
   ]
  },
  {
   "cell_type": "code",
   "execution_count": 14,
   "id": "c662fb89",
   "metadata": {},
   "outputs": [
    {
     "name": "stdout",
     "output_type": "stream",
     "text": [
      "[[1.         0.38220623]\n",
      " [0.38220623 1.        ]]\n"
     ]
    }
   ],
   "source": [
    "mat = cosine_similarity(count_matrix)\n",
    "print(mat)"
   ]
  },
  {
   "cell_type": "code",
   "execution_count": 15,
   "id": "0e843afc",
   "metadata": {},
   "outputs": [
    {
     "name": "stdout",
     "output_type": "stream",
     "text": [
      "Resume Matches by: 38.22062328514446%\n"
     ]
    }
   ],
   "source": [
    "print('Resume Matches by: '+  str(mat[1][0]*100) + '%')"
   ]
  },
  {
   "cell_type": "markdown",
   "id": "84df23d2",
   "metadata": {},
   "source": [
    "* Seems like my resume doesn't match very well web development :)"
   ]
  },
  {
   "cell_type": "code",
   "execution_count": null,
   "id": "65858091",
   "metadata": {},
   "outputs": [],
   "source": []
  }
 ],
 "metadata": {
  "kernelspec": {
   "display_name": "Python 3",
   "language": "python",
   "name": "python3"
  },
  "language_info": {
   "codemirror_mode": {
    "name": "ipython",
    "version": 3
   },
   "file_extension": ".py",
   "mimetype": "text/x-python",
   "name": "python",
   "nbconvert_exporter": "python",
   "pygments_lexer": "ipython3",
   "version": "3.8.8"
  }
 },
 "nbformat": 4,
 "nbformat_minor": 5
}
